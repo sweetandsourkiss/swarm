{
 "cells": [
  {
   "cell_type": "code",
   "execution_count": 23,
   "metadata": {},
   "outputs": [
    {
     "data": {
      "text/plain": [
       "True"
      ]
     },
     "execution_count": 23,
     "metadata": {},
     "output_type": "execute_result"
    }
   ],
   "source": [
    "from dotenv import load_dotenv\n",
    "\n",
    "load_dotenv()"
   ]
  },
  {
   "cell_type": "code",
   "execution_count": null,
   "metadata": {},
   "outputs": [
    {
     "name": "stdout",
     "output_type": "stream",
     "text": [
      "Agent: 안녕하세요! 어떻게 도와드릴까요?\n",
      "Agent: 말씀해주실 내용이나 질문이 있다면 언제든지 공유해주세요. 도와드릴 수 있도록 최선을 다하겠습니다!\n",
      "Agent: 안녕하세요! 어떤 도움을 필요로 하시는지 말씀해주시면 도와드리겠습니다. 질문이나 궁금한 점이 있다면 언제든지 알려주세요.\n"
     ]
    }
   ],
   "source": [
    "from swarm import Swarm, Agent\n",
    "\n",
    "client = Swarm()\n",
    "\n",
    "my_agent = Agent(\n",
    "    name=\"Agent\",\n",
    "    instructions=\"You are a helpful agent.\",\n",
    ")\n",
    "\n",
    "\n",
    "def pretty_print_messages(messages):\n",
    "    for message in messages:\n",
    "        if message[\"content\"] is None:\n",
    "            continue\n",
    "        print(f\"{message['sender']}: {message['content']}\")\n",
    "\n",
    "\n",
    "messages = []\n",
    "agent = my_agent\n",
    "while True:\n",
    "    user_input = input(\"> \")\n",
    "    messages.append({\"role\": \"user\", \"content\": user_input})\n",
    "\n",
    "    response = client.run(\n",
    "        agent=agent,\n",
    "        messages=messages,\n",
    "    )\n",
    "    messages = response.messages\n",
    "    agent = response.agent\n",
    "    pretty_print_messages(messages)"
   ]
  }
 ],
 "metadata": {
  "kernelspec": {
   "display_name": "env",
   "language": "python",
   "name": "python3"
  },
  "language_info": {
   "codemirror_mode": {
    "name": "ipython",
    "version": 3
   },
   "file_extension": ".py",
   "mimetype": "text/x-python",
   "name": "python",
   "nbconvert_exporter": "python",
   "pygments_lexer": "ipython3",
   "version": "3.11.6"
  }
 },
 "nbformat": 4,
 "nbformat_minor": 2
}
