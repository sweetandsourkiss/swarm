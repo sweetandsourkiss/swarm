{
 "cells": [
  {
   "cell_type": "code",
   "execution_count": 26,
   "metadata": {},
   "outputs": [
    {
     "data": {
      "text/plain": [
       "True"
      ]
     },
     "execution_count": 26,
     "metadata": {},
     "output_type": "execute_result"
    }
   ],
   "source": [
    "from dotenv import load_dotenv\n",
    "\n",
    "load_dotenv()"
   ]
  },
  {
   "cell_type": "code",
   "execution_count": 51,
   "metadata": {},
   "outputs": [
    {
     "name": "stdout",
     "output_type": "stream",
     "text": [
      "The\n",
      "The current\n",
      "The current temperature\n",
      "The current temperature in\n",
      "The current temperature in New\n",
      "The current temperature in New York\n",
      "The current temperature in New York City\n",
      "The current temperature in New York City is\n",
      "The current temperature in New York City is \n",
      "The current temperature in New York City is 67\n",
      "The current temperature in New York City is 67°F\n",
      "The current temperature in New York City is 67°F.\n",
      "The current temperature in New York City is 67°F.\n",
      "The current temperature in New York City is 67°F.\n",
      "The current temperature in New York City is 67°F.\n"
     ]
    }
   ],
   "source": [
    "from swarm import Swarm, Agent\n",
    "\n",
    "client = Swarm()\n",
    "\n",
    "\n",
    "def get_weather(location) -> str:\n",
    "    return \"{'temp':67, 'unit':'F'}\"\n",
    "\n",
    "\n",
    "agent = Agent(\n",
    "    name=\"Agent\",\n",
    "    instructions=\"You are a helpful agent.\",\n",
    "    functions=[get_weather],\n",
    ")\n",
    "\n",
    "messages = [{\"role\": \"user\", \"content\": \"What's the weather in NYC?\"}]\n",
    "\n",
    "stream = client.run(\n",
    "    agent=agent,\n",
    "    messages=messages,\n",
    "    stream=True,\n",
    ")\n",
    "\n",
    "contents = []\n",
    "\n",
    "for chunk in stream:\n",
    "    if \"content\" in chunk and chunk[\"content\"]:\n",
    "        contents.append(chunk[\"content\"])\n",
    "    if len(contents):\n",
    "        print(\"\".join(contents))"
   ]
  }
 ],
 "metadata": {
  "kernelspec": {
   "display_name": "env",
   "language": "python",
   "name": "python3"
  },
  "language_info": {
   "codemirror_mode": {
    "name": "ipython",
    "version": 3
   },
   "file_extension": ".py",
   "mimetype": "text/x-python",
   "name": "python",
   "nbconvert_exporter": "python",
   "pygments_lexer": "ipython3",
   "version": "3.11.6"
  }
 },
 "nbformat": 4,
 "nbformat_minor": 2
}
